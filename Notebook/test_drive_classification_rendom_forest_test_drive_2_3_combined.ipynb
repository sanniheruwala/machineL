{
 "cells": [
  {
   "cell_type": "code",
   "execution_count": 25,
   "metadata": {
    "collapsed": false,
    "scrolled": true
   },
   "outputs": [],
   "source": [
    "import pandas\n",
    "filename = 'D:/Machine Learning/Bike sensor data/Test-Drive-Sasken/test-drive-ml-3_4.csv'\n",
    "names = ['Speed (Kmph)','GyroScop_x','GyroScop_y','GyroScop_z','attitude_pitch','attitude_roll','attitude_yaw','acceleration_x','acceleration_y','acceleration_z','G_x_avg','G_y_avg','A_x_avg','A_y_avg','A_z_avg','marker']\n",
    "data = pandas.read_csv(filename, names=names)"
   ]
  },
  {
   "cell_type": "code",
   "execution_count": 26,
   "metadata": {
    "collapsed": true
   },
   "outputs": [],
   "source": [
    "# Load scikit's random forest classifier library\n",
    "from sklearn.ensemble import RandomForestClassifier\n",
    "\n",
    "# Load numpy\n",
    "import numpy as np\n",
    "\n",
    "# Load pandas\n",
    "import pandas as pd"
   ]
  },
  {
   "cell_type": "code",
   "execution_count": 27,
   "metadata": {
    "collapsed": false
   },
   "outputs": [],
   "source": [
    "df = pd.DataFrame(data, columns=data.columns)\n",
    "df = df.ix[1:]"
   ]
  },
  {
   "cell_type": "code",
   "execution_count": 28,
   "metadata": {
    "collapsed": false
   },
   "outputs": [
    {
     "data": {
      "text/html": [
       "<div>\n",
       "<table border=\"1\" class=\"dataframe\">\n",
       "  <thead>\n",
       "    <tr style=\"text-align: right;\">\n",
       "      <th></th>\n",
       "      <th>Speed (Kmph)</th>\n",
       "      <th>GyroScop_x</th>\n",
       "      <th>GyroScop_y</th>\n",
       "      <th>GyroScop_z</th>\n",
       "      <th>attitude_pitch</th>\n",
       "      <th>attitude_roll</th>\n",
       "      <th>attitude_yaw</th>\n",
       "      <th>acceleration_x</th>\n",
       "      <th>acceleration_y</th>\n",
       "      <th>acceleration_z</th>\n",
       "      <th>G_x_avg</th>\n",
       "      <th>G_y_avg</th>\n",
       "      <th>A_x_avg</th>\n",
       "      <th>A_y_avg</th>\n",
       "      <th>A_z_avg</th>\n",
       "      <th>marker</th>\n",
       "    </tr>\n",
       "  </thead>\n",
       "  <tbody>\n",
       "    <tr>\n",
       "      <th>1</th>\n",
       "      <td>-3.6</td>\n",
       "      <td>0.561173856</td>\n",
       "      <td>0.04686249</td>\n",
       "      <td>0.092928469</td>\n",
       "      <td>0.554535052</td>\n",
       "      <td>-0.009908888</td>\n",
       "      <td>0.003412455</td>\n",
       "      <td>-0.01252646</td>\n",
       "      <td>-0.353105843</td>\n",
       "      <td>0.313467264</td>\n",
       "      <td>0</td>\n",
       "      <td>0</td>\n",
       "      <td>0</td>\n",
       "      <td>0</td>\n",
       "      <td>0</td>\n",
       "      <td>normal</td>\n",
       "    </tr>\n",
       "    <tr>\n",
       "      <th>2</th>\n",
       "      <td>-3.6</td>\n",
       "      <td>0.283138305</td>\n",
       "      <td>0.014048797</td>\n",
       "      <td>-0.160364747</td>\n",
       "      <td>0.595711616</td>\n",
       "      <td>-0.009801454</td>\n",
       "      <td>-0.000722531</td>\n",
       "      <td>-0.100575335</td>\n",
       "      <td>-0.237562343</td>\n",
       "      <td>0.400585651</td>\n",
       "      <td>0</td>\n",
       "      <td>0</td>\n",
       "      <td>0</td>\n",
       "      <td>0</td>\n",
       "      <td>0</td>\n",
       "      <td>normal</td>\n",
       "    </tr>\n",
       "    <tr>\n",
       "      <th>3</th>\n",
       "      <td>-3.6</td>\n",
       "      <td>0.39914155</td>\n",
       "      <td>-0.143089995</td>\n",
       "      <td>-0.273033887</td>\n",
       "      <td>0.617707136</td>\n",
       "      <td>-0.001267816</td>\n",
       "      <td>-0.033180496</td>\n",
       "      <td>-0.089344271</td>\n",
       "      <td>-0.23768124</td>\n",
       "      <td>0.295691907</td>\n",
       "      <td>0</td>\n",
       "      <td>0</td>\n",
       "      <td>0</td>\n",
       "      <td>0</td>\n",
       "      <td>0</td>\n",
       "      <td>normal</td>\n",
       "    </tr>\n",
       "    <tr>\n",
       "      <th>4</th>\n",
       "      <td>-3.6</td>\n",
       "      <td>0.395565838</td>\n",
       "      <td>-0.022679988</td>\n",
       "      <td>-0.119658746</td>\n",
       "      <td>0.64502564</td>\n",
       "      <td>0.006303429</td>\n",
       "      <td>-0.057348863</td>\n",
       "      <td>-0.057160962</td>\n",
       "      <td>-0.234474435</td>\n",
       "      <td>0.416118652</td>\n",
       "      <td>0</td>\n",
       "      <td>0</td>\n",
       "      <td>0</td>\n",
       "      <td>0</td>\n",
       "      <td>0</td>\n",
       "      <td>normal</td>\n",
       "    </tr>\n",
       "    <tr>\n",
       "      <th>5</th>\n",
       "      <td>-3.6</td>\n",
       "      <td>0.062787458</td>\n",
       "      <td>0.299148381</td>\n",
       "      <td>-0.059119448</td>\n",
       "      <td>0.660259827</td>\n",
       "      <td>0.03877278</td>\n",
       "      <td>-0.031739561</td>\n",
       "      <td>-0.089133799</td>\n",
       "      <td>-0.264561832</td>\n",
       "      <td>0.242226958</td>\n",
       "      <td>0</td>\n",
       "      <td>0</td>\n",
       "      <td>0</td>\n",
       "      <td>0</td>\n",
       "      <td>0</td>\n",
       "      <td>normal</td>\n",
       "    </tr>\n",
       "  </tbody>\n",
       "</table>\n",
       "</div>"
      ],
      "text/plain": [
       "  Speed (Kmph)   GyroScop_x    GyroScop_y    GyroScop_z attitude_pitch  \\\n",
       "1         -3.6  0.561173856    0.04686249   0.092928469    0.554535052   \n",
       "2         -3.6  0.283138305   0.014048797  -0.160364747    0.595711616   \n",
       "3         -3.6   0.39914155  -0.143089995  -0.273033887    0.617707136   \n",
       "4         -3.6  0.395565838  -0.022679988  -0.119658746     0.64502564   \n",
       "5         -3.6  0.062787458   0.299148381  -0.059119448    0.660259827   \n",
       "\n",
       "  attitude_roll  attitude_yaw acceleration_x acceleration_y acceleration_z  \\\n",
       "1  -0.009908888   0.003412455    -0.01252646   -0.353105843    0.313467264   \n",
       "2  -0.009801454  -0.000722531   -0.100575335   -0.237562343    0.400585651   \n",
       "3  -0.001267816  -0.033180496   -0.089344271    -0.23768124    0.295691907   \n",
       "4   0.006303429  -0.057348863   -0.057160962   -0.234474435    0.416118652   \n",
       "5    0.03877278  -0.031739561   -0.089133799   -0.264561832    0.242226958   \n",
       "\n",
       "  G_x_avg G_y_avg A_x_avg A_y_avg A_z_avg  marker  \n",
       "1       0       0       0       0       0  normal  \n",
       "2       0       0       0       0       0  normal  \n",
       "3       0       0       0       0       0  normal  \n",
       "4       0       0       0       0       0  normal  \n",
       "5       0       0       0       0       0  normal  "
      ]
     },
     "execution_count": 28,
     "metadata": {},
     "output_type": "execute_result"
    }
   ],
   "source": [
    "df.head()"
   ]
  },
  {
   "cell_type": "code",
   "execution_count": 29,
   "metadata": {
    "collapsed": false
   },
   "outputs": [
    {
     "data": {
      "text/html": [
       "<div>\n",
       "<table border=\"1\" class=\"dataframe\">\n",
       "  <thead>\n",
       "    <tr style=\"text-align: right;\">\n",
       "      <th></th>\n",
       "      <th>Speed (Kmph)</th>\n",
       "      <th>GyroScop_x</th>\n",
       "      <th>GyroScop_y</th>\n",
       "      <th>GyroScop_z</th>\n",
       "      <th>attitude_pitch</th>\n",
       "      <th>attitude_roll</th>\n",
       "      <th>attitude_yaw</th>\n",
       "      <th>acceleration_x</th>\n",
       "      <th>acceleration_y</th>\n",
       "      <th>acceleration_z</th>\n",
       "      <th>G_x_avg</th>\n",
       "      <th>G_y_avg</th>\n",
       "      <th>A_x_avg</th>\n",
       "      <th>A_y_avg</th>\n",
       "      <th>A_z_avg</th>\n",
       "      <th>marker</th>\n",
       "      <th>is_train</th>\n",
       "    </tr>\n",
       "  </thead>\n",
       "  <tbody>\n",
       "    <tr>\n",
       "      <th>1</th>\n",
       "      <td>-3.6</td>\n",
       "      <td>0.561173856</td>\n",
       "      <td>0.04686249</td>\n",
       "      <td>0.092928469</td>\n",
       "      <td>0.554535052</td>\n",
       "      <td>-0.009908888</td>\n",
       "      <td>0.003412455</td>\n",
       "      <td>-0.01252646</td>\n",
       "      <td>-0.353105843</td>\n",
       "      <td>0.313467264</td>\n",
       "      <td>0</td>\n",
       "      <td>0</td>\n",
       "      <td>0</td>\n",
       "      <td>0</td>\n",
       "      <td>0</td>\n",
       "      <td>normal</td>\n",
       "      <td>True</td>\n",
       "    </tr>\n",
       "    <tr>\n",
       "      <th>2</th>\n",
       "      <td>-3.6</td>\n",
       "      <td>0.283138305</td>\n",
       "      <td>0.014048797</td>\n",
       "      <td>-0.160364747</td>\n",
       "      <td>0.595711616</td>\n",
       "      <td>-0.009801454</td>\n",
       "      <td>-0.000722531</td>\n",
       "      <td>-0.100575335</td>\n",
       "      <td>-0.237562343</td>\n",
       "      <td>0.400585651</td>\n",
       "      <td>0</td>\n",
       "      <td>0</td>\n",
       "      <td>0</td>\n",
       "      <td>0</td>\n",
       "      <td>0</td>\n",
       "      <td>normal</td>\n",
       "      <td>True</td>\n",
       "    </tr>\n",
       "    <tr>\n",
       "      <th>3</th>\n",
       "      <td>-3.6</td>\n",
       "      <td>0.39914155</td>\n",
       "      <td>-0.143089995</td>\n",
       "      <td>-0.273033887</td>\n",
       "      <td>0.617707136</td>\n",
       "      <td>-0.001267816</td>\n",
       "      <td>-0.033180496</td>\n",
       "      <td>-0.089344271</td>\n",
       "      <td>-0.23768124</td>\n",
       "      <td>0.295691907</td>\n",
       "      <td>0</td>\n",
       "      <td>0</td>\n",
       "      <td>0</td>\n",
       "      <td>0</td>\n",
       "      <td>0</td>\n",
       "      <td>normal</td>\n",
       "      <td>False</td>\n",
       "    </tr>\n",
       "    <tr>\n",
       "      <th>4</th>\n",
       "      <td>-3.6</td>\n",
       "      <td>0.395565838</td>\n",
       "      <td>-0.022679988</td>\n",
       "      <td>-0.119658746</td>\n",
       "      <td>0.64502564</td>\n",
       "      <td>0.006303429</td>\n",
       "      <td>-0.057348863</td>\n",
       "      <td>-0.057160962</td>\n",
       "      <td>-0.234474435</td>\n",
       "      <td>0.416118652</td>\n",
       "      <td>0</td>\n",
       "      <td>0</td>\n",
       "      <td>0</td>\n",
       "      <td>0</td>\n",
       "      <td>0</td>\n",
       "      <td>normal</td>\n",
       "      <td>True</td>\n",
       "    </tr>\n",
       "    <tr>\n",
       "      <th>5</th>\n",
       "      <td>-3.6</td>\n",
       "      <td>0.062787458</td>\n",
       "      <td>0.299148381</td>\n",
       "      <td>-0.059119448</td>\n",
       "      <td>0.660259827</td>\n",
       "      <td>0.03877278</td>\n",
       "      <td>-0.031739561</td>\n",
       "      <td>-0.089133799</td>\n",
       "      <td>-0.264561832</td>\n",
       "      <td>0.242226958</td>\n",
       "      <td>0</td>\n",
       "      <td>0</td>\n",
       "      <td>0</td>\n",
       "      <td>0</td>\n",
       "      <td>0</td>\n",
       "      <td>normal</td>\n",
       "      <td>True</td>\n",
       "    </tr>\n",
       "  </tbody>\n",
       "</table>\n",
       "</div>"
      ],
      "text/plain": [
       "  Speed (Kmph)   GyroScop_x    GyroScop_y    GyroScop_z attitude_pitch  \\\n",
       "1         -3.6  0.561173856    0.04686249   0.092928469    0.554535052   \n",
       "2         -3.6  0.283138305   0.014048797  -0.160364747    0.595711616   \n",
       "3         -3.6   0.39914155  -0.143089995  -0.273033887    0.617707136   \n",
       "4         -3.6  0.395565838  -0.022679988  -0.119658746     0.64502564   \n",
       "5         -3.6  0.062787458   0.299148381  -0.059119448    0.660259827   \n",
       "\n",
       "  attitude_roll  attitude_yaw acceleration_x acceleration_y acceleration_z  \\\n",
       "1  -0.009908888   0.003412455    -0.01252646   -0.353105843    0.313467264   \n",
       "2  -0.009801454  -0.000722531   -0.100575335   -0.237562343    0.400585651   \n",
       "3  -0.001267816  -0.033180496   -0.089344271    -0.23768124    0.295691907   \n",
       "4   0.006303429  -0.057348863   -0.057160962   -0.234474435    0.416118652   \n",
       "5    0.03877278  -0.031739561   -0.089133799   -0.264561832    0.242226958   \n",
       "\n",
       "  G_x_avg G_y_avg A_x_avg A_y_avg A_z_avg  marker is_train  \n",
       "1       0       0       0       0       0  normal     True  \n",
       "2       0       0       0       0       0  normal     True  \n",
       "3       0       0       0       0       0  normal    False  \n",
       "4       0       0       0       0       0  normal     True  \n",
       "5       0       0       0       0       0  normal     True  "
      ]
     },
     "execution_count": 29,
     "metadata": {},
     "output_type": "execute_result"
    }
   ],
   "source": [
    "df['is_train'] = np.random.uniform(0, 1, len(df)) <= .75\n",
    "# View the top 5 rows\n",
    "df.head()"
   ]
  },
  {
   "cell_type": "code",
   "execution_count": 30,
   "metadata": {
    "collapsed": false,
    "scrolled": true
   },
   "outputs": [
    {
     "name": "stderr",
     "output_type": "stream",
     "text": [
      "C:\\Users\\EE208958\\AppData\\Local\\Continuum\\Anaconda2\\lib\\site-packages\\ipykernel\\__main__.py:5: SettingWithCopyWarning: \n",
      "A value is trying to be set on a copy of a slice from a DataFrame.\n",
      "Try using .loc[row_indexer,col_indexer] = value instead\n",
      "\n",
      "See the caveats in the documentation: http://pandas.pydata.org/pandas-docs/stable/indexing.html#indexing-view-versus-copy\n",
      "C:\\Users\\EE208958\\AppData\\Local\\Continuum\\Anaconda2\\lib\\site-packages\\ipykernel\\__main__.py:6: SettingWithCopyWarning: \n",
      "A value is trying to be set on a copy of a slice from a DataFrame.\n",
      "Try using .loc[row_indexer,col_indexer] = value instead\n",
      "\n",
      "See the caveats in the documentation: http://pandas.pydata.org/pandas-docs/stable/indexing.html#indexing-view-versus-copy\n"
     ]
    }
   ],
   "source": [
    "# Create two new dataframes, one with the training rows, one with the test rows\n",
    "train, test = df[df['is_train']==True], df[df['is_train']==False]\n",
    "test[['Speed (Kmph)','GyroScop_x','GyroScop_y','GyroScop_z','attitude_pitch','attitude_roll','attitude_yaw','acceleration_x','acceleration_y','acceleration_z','G_x_avg','G_y_avg']] = test[['Speed (Kmph)','GyroScop_x','GyroScop_y','GyroScop_z','attitude_pitch','attitude_roll','attitude_yaw','acceleration_x','acceleration_y','acceleration_z','G_x_avg','G_y_avg']].astype('float')\n",
    "train[['Speed (Kmph)','GyroScop_x','GyroScop_y','GyroScop_z','attitude_pitch','attitude_roll','attitude_yaw','acceleration_x','acceleration_y','acceleration_z','G_x_avg','G_y_avg']] = train[['Speed (Kmph)','GyroScop_x','GyroScop_y','GyroScop_z','attitude_pitch','attitude_roll','attitude_yaw','acceleration_x','acceleration_y','acceleration_z','G_x_avg','G_y_avg']].astype('float')\n",
    "train['marker'] = train['marker'].astype('category')\n",
    "test['marker'] = test['marker'].astype('category')"
   ]
  },
  {
   "cell_type": "code",
   "execution_count": 31,
   "metadata": {
    "collapsed": false
   },
   "outputs": [
    {
     "name": "stdout",
     "output_type": "stream",
     "text": [
      "('Number of observations in the training data:', 2541)\n",
      "('Number of observations in the test data:', 889)\n"
     ]
    }
   ],
   "source": [
    "# Show the number of observations for the test and training dataframes\n",
    "print('Number of observations in the training data:', len(train))\n",
    "print('Number of observations in the test data:',len(test))"
   ]
  },
  {
   "cell_type": "code",
   "execution_count": 32,
   "metadata": {
    "collapsed": true
   },
   "outputs": [],
   "source": [
    "features = df.columns[:12]"
   ]
  },
  {
   "cell_type": "code",
   "execution_count": 33,
   "metadata": {
    "collapsed": false
   },
   "outputs": [
    {
     "data": {
      "text/plain": [
       "Index([u'Speed (Kmph)', u'GyroScop_x', u'GyroScop_y', u'GyroScop_z',\n",
       "       u'attitude_pitch', u'attitude_roll', u'attitude_yaw', u'acceleration_x',\n",
       "       u'acceleration_y', u'acceleration_z', u'G_x_avg', u'G_y_avg'],\n",
       "      dtype='object')"
      ]
     },
     "execution_count": 33,
     "metadata": {},
     "output_type": "execute_result"
    }
   ],
   "source": [
    "features"
   ]
  },
  {
   "cell_type": "code",
   "execution_count": 34,
   "metadata": {
    "collapsed": false
   },
   "outputs": [
    {
     "name": "stdout",
     "output_type": "stream",
     "text": [
      "CategoricalIndex([u'normal', u'normal', u'normal', u'normal', u'normal',\n",
      "                  u'normal', u'normal', u'normal', u'normal', u'normal',\n",
      "                  u'normal', u'RightTurn', u'RightTurn', u'RightTurn',\n",
      "                  u'RightTurn', u'RightTurn', u'RightTurn', u'normal',\n",
      "                  u'normal', u'HardAcceleration', u'HardAcceleration',\n",
      "                  u'HardAcceleration', u'HardAcceleration',\n",
      "                  u'HardAcceleration', u'HardAcceleration',\n",
      "                  u'HardAcceleration', u'HardAcceleration',\n",
      "                  u'HardAcceleration', u'HardAcceleration',\n",
      "                  u'HardAcceleration', u'HardAcceleration',\n",
      "                  u'HardAcceleration', u'Decceleration', u'Decceleration',\n",
      "                  u'Decceleration', u'Decceleration', u'normal',\n",
      "                  u'Decceleration', u'Decceleration', u'Decceleration',\n",
      "                  u'Decceleration', u'Decceleration', u'Decceleration',\n",
      "                  u'Decceleration', u'Decceleration', u'normal', u'normal',\n",
      "                  u'normal', u'normal', u'normal', u'normal', u'normal',\n",
      "                  u'normal', u'normal', u'normal', u'normal', u'normal'],\n",
      "                 categories=[u'Decceleration', u'HardAcceleration', u'LeftTurn', u'RightTurn', u'normal'], ordered=False, name=u'marker', dtype='category')\n"
     ]
    },
    {
     "data": {
      "text/plain": [
       "array([0, 0, 0, 0, 0, 0, 0, 0, 0, 0, 0, 1, 1, 1, 1, 1, 1, 0, 0, 2, 2, 2, 2,\n",
       "       2, 2, 2, 2, 2, 2, 2, 2, 2, 3, 3, 3, 3, 0, 3, 3, 3, 3, 3, 3, 3, 3, 0,\n",
       "       0, 0, 0, 0, 0, 0, 0, 0, 0, 0, 0], dtype=int64)"
      ]
     },
     "execution_count": 34,
     "metadata": {},
     "output_type": "execute_result"
    }
   ],
   "source": [
    "y = pd.factorize(train['marker'])[0]\n",
    "x = pd.CategoricalIndex(train['marker'])\n",
    "print(x[200:257])\n",
    "y[200:257]"
   ]
  },
  {
   "cell_type": "code",
   "execution_count": 35,
   "metadata": {
    "collapsed": false
   },
   "outputs": [
    {
     "data": {
      "text/plain": [
       "RandomForestClassifier(bootstrap=True, class_weight=None, criterion='gini',\n",
       "            max_depth=None, max_features='auto', max_leaf_nodes=None,\n",
       "            min_impurity_split=1e-07, min_samples_leaf=1,\n",
       "            min_samples_split=2, min_weight_fraction_leaf=0.0,\n",
       "            n_estimators=10, n_jobs=2, oob_score=False, random_state=None,\n",
       "            verbose=0, warm_start=False)"
      ]
     },
     "execution_count": 35,
     "metadata": {},
     "output_type": "execute_result"
    }
   ],
   "source": [
    "# Create a random forest classifier. By convention, clf means 'classifier'\n",
    "clf = RandomForestClassifier(n_jobs=2)\n",
    "\n",
    "# Train the classifier to take the training features and learn how they relate\n",
    "# to the training y (the species)\n",
    "clf.fit(train[features], y)"
   ]
  },
  {
   "cell_type": "code",
   "execution_count": 36,
   "metadata": {
    "collapsed": false
   },
   "outputs": [
    {
     "data": {
      "text/plain": [
       "array([0, 0, 0, 0, 0, 0, 0, 0, 0, 0, 0, 0, 0, 0, 0, 0, 0, 0, 0, 0, 0, 0, 0,\n",
       "       0, 0, 0, 0, 0, 0, 0, 0, 0, 0, 0, 0, 0, 0, 0, 0, 0, 0, 0, 0, 0, 0, 0,\n",
       "       0, 0, 0, 0, 0, 0, 0, 0, 0, 0, 0, 0, 0, 0, 0, 0, 0, 0, 0, 0, 0, 0, 0,\n",
       "       0, 0, 0, 0, 0, 0, 0, 0, 0, 0, 0, 0, 0, 0, 0, 0, 0, 1, 0, 0, 0, 0, 2,\n",
       "       0, 0, 2, 2, 2, 2, 3, 0, 3, 0, 0, 0, 0, 0, 0, 1, 0, 0, 1, 0, 0, 0, 0,\n",
       "       2, 0, 0, 0, 0, 0, 0, 0, 0, 0, 0, 0, 2, 2, 2, 2, 2, 2, 2, 2, 2, 2, 0,\n",
       "       2, 2, 3, 0, 0, 0, 0, 0, 0, 0, 0, 0, 0, 0, 0, 0, 0, 0, 0, 0, 0, 0, 0,\n",
       "       0, 0, 0, 0, 0, 0, 0, 0, 0, 0, 0, 0, 0, 2, 2, 2, 2, 2, 2, 0, 0, 0, 0,\n",
       "       0, 0, 0, 0, 0, 0, 0, 0, 0, 0, 0, 0, 0, 0, 0, 0, 0, 0, 0, 0, 0, 0, 0,\n",
       "       0, 0, 0, 0, 0, 0, 0, 0, 0, 0, 0, 0, 0, 0, 0, 0, 0, 0, 0, 0, 0, 0, 0,\n",
       "       0, 0, 0, 0, 0, 0, 0, 0, 0, 0, 0, 0, 0, 0, 0, 0, 0, 0, 0, 0, 0, 0, 0,\n",
       "       0, 0, 0, 0, 0, 0, 0, 0, 0, 0, 0, 0, 0, 0, 0, 0, 0, 0, 0, 0, 0, 0, 0,\n",
       "       0, 0, 0, 0, 0, 0, 0, 0, 0, 0, 0, 0, 0, 0, 0, 0, 0, 0, 0, 0, 0, 0, 0,\n",
       "       0, 0, 0, 0, 0, 0, 0, 0, 0, 2, 3, 3, 0, 0, 0, 0, 0, 0, 0, 0, 0, 0, 2,\n",
       "       2, 0, 0, 0, 0, 0, 0, 0, 0, 0, 0, 0, 0, 0, 0, 0, 0, 0, 0, 0, 0, 0, 0,\n",
       "       0, 0, 0, 0, 0, 3, 0, 0, 0, 0, 0, 0, 0, 0, 0, 0, 0, 0, 0, 0, 0, 0, 0,\n",
       "       0, 0, 0, 0, 0, 0, 0, 0, 0, 0, 0, 0, 0, 0, 0, 3, 3, 0, 0, 0, 0, 0, 0,\n",
       "       0, 0, 0, 0, 0, 0, 0, 0, 0, 2, 0, 0, 0, 2, 2, 2, 0, 0, 0, 0, 0, 0, 2,\n",
       "       2, 2, 2, 3, 3, 0, 0, 0, 0, 0, 0, 0, 0, 0, 0, 0, 0, 0, 0, 0, 0, 0, 0,\n",
       "       0, 0, 0, 0, 0, 0, 0, 3, 2, 3, 0, 0, 0, 0, 0, 0, 0, 0, 0, 0, 0, 0, 0,\n",
       "       0, 0, 0, 0, 0, 0, 0, 0, 0, 0, 0, 0, 0, 0, 0, 0, 0, 0, 0, 0, 0, 0, 0,\n",
       "       0, 0, 0, 0, 0, 0, 0, 0, 0, 0, 0, 0, 0, 0, 0, 0, 0, 0, 0, 0, 0, 0, 0,\n",
       "       0, 0, 0, 0, 0, 0, 0, 0, 0, 0, 0, 0, 0, 0, 0, 0, 0, 0, 0, 0, 0, 0, 0,\n",
       "       0, 0, 0, 0, 0, 0, 0, 0, 0, 0, 0, 0, 0, 0, 0, 0, 0, 0, 0, 0, 2, 2, 2,\n",
       "       2, 2, 2, 2, 2, 2, 2, 3, 3, 3, 0, 0, 0, 0, 0, 0, 0, 3, 0, 0, 0, 0, 0,\n",
       "       0, 0, 0, 0, 0, 0, 0, 0, 0, 0, 0, 0, 0, 0, 0, 0, 0, 0, 0, 0, 0, 0, 0,\n",
       "       0, 0, 0, 0, 0, 0, 0, 0, 0, 0, 0, 0, 0, 0, 0, 0, 0, 0, 0, 0, 0, 0, 0,\n",
       "       0, 0, 0, 0, 0, 0, 0, 0, 0, 0, 0, 0, 0, 0, 0, 0, 0, 0, 0, 0, 0, 0, 0,\n",
       "       0, 0, 0, 4, 4, 2, 3, 3, 0, 0, 0, 0, 0, 0, 0, 0, 0, 3, 3, 0, 0, 0, 0,\n",
       "       0, 0, 0, 0, 0, 0, 2, 0, 4, 4, 0, 0, 0, 0, 0, 3, 0, 0, 0, 0, 0, 0, 0,\n",
       "       0, 0, 0, 2, 0, 0, 0, 0, 0, 0, 0, 0, 0, 0, 0, 0, 0, 0, 0, 0, 0, 0, 2,\n",
       "       0, 3, 0, 0, 0, 0, 0, 0, 0, 3, 3, 3, 3, 2, 0, 0, 0, 2, 2, 2, 2, 2, 3,\n",
       "       0, 0, 0, 0, 0, 0, 0, 2, 0, 0, 3, 0, 0, 0, 0, 0, 0, 0, 0, 0, 0, 0, 0,\n",
       "       0, 0, 0, 0, 0, 0, 0, 0, 0, 0, 0, 0, 0, 0, 0, 0, 0, 2, 3, 3, 0, 2, 0,\n",
       "       2, 2, 2, 0, 0, 0, 0, 0, 0, 0, 0, 0, 0, 0, 0, 0, 2, 2, 3, 2, 2, 2, 3,\n",
       "       0, 0, 0, 0, 0, 0, 0, 0, 0, 0, 0, 0, 0, 0, 0, 0, 0, 0, 0, 0, 0, 0, 0,\n",
       "       0, 0, 0, 0, 0, 0, 0, 0, 0, 0, 0, 0, 0, 3, 2, 2, 0, 0, 0, 0, 0, 0, 0,\n",
       "       0, 0, 0, 2, 3, 0, 0, 0, 0, 0, 0, 2, 3, 2, 2, 2, 2, 0, 2, 3, 3, 0, 0,\n",
       "       0, 0, 0, 0, 0, 0, 0, 0, 0, 0, 0, 0, 0, 0, 4], dtype=int64)"
      ]
     },
     "execution_count": 36,
     "metadata": {},
     "output_type": "execute_result"
    }
   ],
   "source": [
    "# Apply the classifier we trained to the test data (which, remember, it has never seen before)\n",
    "test_data = clf.predict(test[features])\n",
    "test_data"
   ]
  },
  {
   "cell_type": "code",
   "execution_count": 37,
   "metadata": {
    "collapsed": false
   },
   "outputs": [
    {
     "name": "stdout",
     "output_type": "stream",
     "text": [
      "[[ 1.   0.   0.   0.   0. ]\n",
      " [ 1.   0.   0.   0.   0. ]\n",
      " [ 1.   0.   0.   0.   0. ]\n",
      " ..., \n",
      " [ 0.9  0.   0.   0.1  0. ]\n",
      " [ 0.6  0.   0.   0.   0.4]\n",
      " [ 0.2  0.   0.   0.1  0.7]]\n"
     ]
    }
   ],
   "source": [
    "# View the predicted probabilities of the first 10 observations\n",
    "proba = clf.predict_proba(test[features])\n",
    "print(proba)"
   ]
  },
  {
   "cell_type": "code",
   "execution_count": 38,
   "metadata": {
    "collapsed": false
   },
   "outputs": [],
   "source": [
    "#name = {'0':'normal','1':'Hard Acceleration','2':'normal','3':'Decceleration','4':'Right Turn','5':'Left Turn'}\n",
    "\n",
    "preds = clf.predict(test[features])"
   ]
  },
  {
   "cell_type": "code",
   "execution_count": 39,
   "metadata": {
    "collapsed": false
   },
   "outputs": [],
   "source": [
    "#for x in np.nditer(preds):\n",
    "      # print x"
   ]
  },
  {
   "cell_type": "code",
   "execution_count": 40,
   "metadata": {
    "collapsed": false
   },
   "outputs": [
    {
     "data": {
      "text/html": [
       "<div>\n",
       "<table border=\"1\" class=\"dataframe\">\n",
       "  <thead>\n",
       "    <tr style=\"text-align: right;\">\n",
       "      <th>Predicted Events</th>\n",
       "      <th>0</th>\n",
       "      <th>1</th>\n",
       "      <th>2</th>\n",
       "      <th>3</th>\n",
       "      <th>4</th>\n",
       "    </tr>\n",
       "    <tr>\n",
       "      <th>Actual Events</th>\n",
       "      <th></th>\n",
       "      <th></th>\n",
       "      <th></th>\n",
       "      <th></th>\n",
       "      <th></th>\n",
       "    </tr>\n",
       "  </thead>\n",
       "  <tbody>\n",
       "    <tr>\n",
       "      <th>Decceleration</th>\n",
       "      <td>11</td>\n",
       "      <td>0</td>\n",
       "      <td>10</td>\n",
       "      <td>22</td>\n",
       "      <td>0</td>\n",
       "    </tr>\n",
       "    <tr>\n",
       "      <th>HardAcceleration</th>\n",
       "      <td>28</td>\n",
       "      <td>0</td>\n",
       "      <td>63</td>\n",
       "      <td>11</td>\n",
       "      <td>1</td>\n",
       "    </tr>\n",
       "    <tr>\n",
       "      <th>LeftTurn</th>\n",
       "      <td>10</td>\n",
       "      <td>0</td>\n",
       "      <td>0</td>\n",
       "      <td>0</td>\n",
       "      <td>3</td>\n",
       "    </tr>\n",
       "    <tr>\n",
       "      <th>RightTurn</th>\n",
       "      <td>6</td>\n",
       "      <td>3</td>\n",
       "      <td>0</td>\n",
       "      <td>0</td>\n",
       "      <td>0</td>\n",
       "    </tr>\n",
       "    <tr>\n",
       "      <th>normal</th>\n",
       "      <td>713</td>\n",
       "      <td>0</td>\n",
       "      <td>3</td>\n",
       "      <td>4</td>\n",
       "      <td>1</td>\n",
       "    </tr>\n",
       "  </tbody>\n",
       "</table>\n",
       "</div>"
      ],
      "text/plain": [
       "Predicted Events    0  1   2   3  4\n",
       "Actual Events                      \n",
       "Decceleration      11  0  10  22  0\n",
       "HardAcceleration   28  0  63  11  1\n",
       "LeftTurn           10  0   0   0  3\n",
       "RightTurn           6  3   0   0  0\n",
       "normal            713  0   3   4  1"
      ]
     },
     "execution_count": 40,
     "metadata": {},
     "output_type": "execute_result"
    }
   ],
   "source": [
    "tb = pd.crosstab(test['marker'], test_data, rownames=['Actual Events'], colnames=['Predicted Events'])\n",
    "import matplotlib.pyplot as plt\n",
    "#tb.plot()\n",
    "plt.show()\n",
    "#tb.to_csv(\"cross_table.csv\")\n",
    "tb"
   ]
  },
  {
   "cell_type": "code",
   "execution_count": 19,
   "metadata": {
    "collapsed": false
   },
   "outputs": [],
   "source": [
    "r = test['marker']\n",
    "r.to_csv(\"test_original_with_index.csv\")"
   ]
  },
  {
   "cell_type": "code",
   "execution_count": 220,
   "metadata": {
    "collapsed": false
   },
   "outputs": [
    {
     "data": {
      "text/plain": [
       "[('Speed (Kmph)', 0.210351418542438),\n",
       " ('GyroScop_x', 0.035733114937772668),\n",
       " ('GyroScop_y', 0.040018141928882311),\n",
       " ('GyroScop_z', 0.05170210054622152),\n",
       " ('attitude_pitch', 0.088534539203622406),\n",
       " ('attitude_roll', 0.13178612355595079),\n",
       " ('attitude_yaw', 0.11263940650517971),\n",
       " ('acceleration_x', 0.072020177627249479),\n",
       " ('acceleration_y', 0.050513401382796717),\n",
       " ('acceleration_z', 0.079961254368350013),\n",
       " ('G_x_avg', 0.048620147840462126),\n",
       " ('G_y_avg', 0.078120173561074299)]"
      ]
     },
     "execution_count": 220,
     "metadata": {},
     "output_type": "execute_result"
    }
   ],
   "source": [
    "list(zip(train[features], clf.feature_importances_))"
   ]
  },
  {
   "cell_type": "code",
   "execution_count": 221,
   "metadata": {
    "collapsed": false
   },
   "outputs": [
    {
     "data": {
      "text/plain": [
       "Speed (Kmph)       float64\n",
       "GyroScop_x         float64\n",
       "GyroScop_y         float64\n",
       "GyroScop_z         float64\n",
       "attitude_pitch     float64\n",
       "attitude_roll      float64\n",
       "attitude_yaw       float64\n",
       "acceleration_x     float64\n",
       "acceleration_y     float64\n",
       "acceleration_z     float64\n",
       "G_x_avg            float64\n",
       "G_y_avg            float64\n",
       "marker            category\n",
       "is_train              bool\n",
       "dtype: object"
      ]
     },
     "execution_count": 221,
     "metadata": {},
     "output_type": "execute_result"
    }
   ],
   "source": [
    "test.dtypes"
   ]
  }
 ],
 "metadata": {
  "kernelspec": {
   "display_name": "Python 2",
   "language": "python",
   "name": "python2"
  },
  "language_info": {
   "codemirror_mode": {
    "name": "ipython",
    "version": 2
   },
   "file_extension": ".py",
   "mimetype": "text/x-python",
   "name": "python",
   "nbconvert_exporter": "python",
   "pygments_lexer": "ipython2",
   "version": "2.7.13"
  }
 },
 "nbformat": 4,
 "nbformat_minor": 2
}

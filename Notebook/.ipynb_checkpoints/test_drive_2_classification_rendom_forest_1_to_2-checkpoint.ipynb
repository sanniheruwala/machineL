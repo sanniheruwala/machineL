{
 "cells": [
  {
   "cell_type": "code",
   "execution_count": 66,
   "metadata": {
    "collapsed": false,
    "scrolled": true
   },
   "outputs": [],
   "source": [
    "import pandas\n",
    "filename = 'D:/Machine Learning/Bike sensor data/Test-Drive-Sasken/test-drive-ml - 1.csv'\n",
    "names = ['Speed (Kmph)','GyroScop_x','GyroScop_y','GyroScop_z','attitude_pitch','attitude_roll','attitude_yaw','acceleration_x','acceleration_y','acceleration_z','G_x_avg','G_y_avg','marker']\n",
    "data = pandas.read_csv(filename, names=names)"
   ]
  },
  {
   "cell_type": "code",
   "execution_count": 67,
   "metadata": {
    "collapsed": true
   },
   "outputs": [],
   "source": [
    "# Load scikit's random forest classifier library\n",
    "from sklearn.ensemble import RandomForestClassifier\n",
    "\n",
    "# Load numpy\n",
    "import numpy as np\n",
    "\n",
    "# Load pandas\n",
    "import pandas as pd"
   ]
  },
  {
   "cell_type": "code",
   "execution_count": 68,
   "metadata": {
    "collapsed": false
   },
   "outputs": [],
   "source": [
    "df = pd.DataFrame(data, columns=data.columns)\n",
    "df = df.ix[1:]"
   ]
  },
  {
   "cell_type": "code",
   "execution_count": 69,
   "metadata": {
    "collapsed": false
   },
   "outputs": [
    {
     "data": {
      "text/html": [
       "<div>\n",
       "<table border=\"1\" class=\"dataframe\">\n",
       "  <thead>\n",
       "    <tr style=\"text-align: right;\">\n",
       "      <th></th>\n",
       "      <th>Speed (Kmph)</th>\n",
       "      <th>GyroScop_x</th>\n",
       "      <th>GyroScop_y</th>\n",
       "      <th>GyroScop_z</th>\n",
       "      <th>attitude_pitch</th>\n",
       "      <th>attitude_roll</th>\n",
       "      <th>attitude_yaw</th>\n",
       "      <th>acceleration_x</th>\n",
       "      <th>acceleration_y</th>\n",
       "      <th>acceleration_z</th>\n",
       "      <th>G_x_avg</th>\n",
       "      <th>G_y_avg</th>\n",
       "      <th>marker</th>\n",
       "    </tr>\n",
       "  </thead>\n",
       "  <tbody>\n",
       "    <tr>\n",
       "      <th>1</th>\n",
       "      <td>-3.6</td>\n",
       "      <td>0.279051125</td>\n",
       "      <td>-0.380040079</td>\n",
       "      <td>-0.36453715</td>\n",
       "      <td>0.847955272</td>\n",
       "      <td>0.032351759</td>\n",
       "      <td>-0.017285621</td>\n",
       "      <td>0.067698531</td>\n",
       "      <td>-0.001428683</td>\n",
       "      <td>-0.280036122</td>\n",
       "      <td>0</td>\n",
       "      <td>0</td>\n",
       "      <td>normal</td>\n",
       "    </tr>\n",
       "    <tr>\n",
       "      <th>2</th>\n",
       "      <td>-3.6</td>\n",
       "      <td>-0.397790551</td>\n",
       "      <td>-0.642424583</td>\n",
       "      <td>-0.08518818</td>\n",
       "      <td>0.852498155</td>\n",
       "      <td>0.049403357</td>\n",
       "      <td>-0.031787953</td>\n",
       "      <td>0.103471734</td>\n",
       "      <td>0.040219281</td>\n",
       "      <td>-0.152162179</td>\n",
       "      <td>0</td>\n",
       "      <td>0</td>\n",
       "      <td>normal</td>\n",
       "    </tr>\n",
       "    <tr>\n",
       "      <th>3</th>\n",
       "      <td>-3.6</td>\n",
       "      <td>0.23064588</td>\n",
       "      <td>-0.023383273</td>\n",
       "      <td>-0.308370799</td>\n",
       "      <td>0.888298933</td>\n",
       "      <td>0.087982473</td>\n",
       "      <td>-0.060126059</td>\n",
       "      <td>0.004087399</td>\n",
       "      <td>0.121153757</td>\n",
       "      <td>0.080624856</td>\n",
       "      <td>0</td>\n",
       "      <td>0</td>\n",
       "      <td>normal</td>\n",
       "    </tr>\n",
       "    <tr>\n",
       "      <th>4</th>\n",
       "      <td>-3.6</td>\n",
       "      <td>0.007030204</td>\n",
       "      <td>-0.075759858</td>\n",
       "      <td>0.081787631</td>\n",
       "      <td>0.879922318</td>\n",
       "      <td>0.115055642</td>\n",
       "      <td>-0.083289553</td>\n",
       "      <td>0.045453493</td>\n",
       "      <td>0.146955863</td>\n",
       "      <td>0.005770246</td>\n",
       "      <td>0</td>\n",
       "      <td>0</td>\n",
       "      <td>normal</td>\n",
       "    </tr>\n",
       "    <tr>\n",
       "      <th>5</th>\n",
       "      <td>-3.6</td>\n",
       "      <td>-0.664592743</td>\n",
       "      <td>0.183221906</td>\n",
       "      <td>0.171060413</td>\n",
       "      <td>0.848825783</td>\n",
       "      <td>0.142631704</td>\n",
       "      <td>-0.094414574</td>\n",
       "      <td>0.138343543</td>\n",
       "      <td>-0.031858966</td>\n",
       "      <td>-0.076558895</td>\n",
       "      <td>0</td>\n",
       "      <td>0</td>\n",
       "      <td>normal</td>\n",
       "    </tr>\n",
       "  </tbody>\n",
       "</table>\n",
       "</div>"
      ],
      "text/plain": [
       "  Speed (Kmph)    GyroScop_x    GyroScop_y    GyroScop_z attitude_pitch  \\\n",
       "1         -3.6   0.279051125  -0.380040079   -0.36453715    0.847955272   \n",
       "2         -3.6  -0.397790551  -0.642424583   -0.08518818    0.852498155   \n",
       "3         -3.6    0.23064588  -0.023383273  -0.308370799    0.888298933   \n",
       "4         -3.6   0.007030204  -0.075759858   0.081787631    0.879922318   \n",
       "5         -3.6  -0.664592743   0.183221906   0.171060413    0.848825783   \n",
       "\n",
       "  attitude_roll  attitude_yaw acceleration_x acceleration_y acceleration_z  \\\n",
       "1   0.032351759  -0.017285621    0.067698531   -0.001428683   -0.280036122   \n",
       "2   0.049403357  -0.031787953    0.103471734    0.040219281   -0.152162179   \n",
       "3   0.087982473  -0.060126059    0.004087399    0.121153757    0.080624856   \n",
       "4   0.115055642  -0.083289553    0.045453493    0.146955863    0.005770246   \n",
       "5   0.142631704  -0.094414574    0.138343543   -0.031858966   -0.076558895   \n",
       "\n",
       "  G_x_avg G_y_avg  marker  \n",
       "1       0       0  normal  \n",
       "2       0       0  normal  \n",
       "3       0       0  normal  \n",
       "4       0       0  normal  \n",
       "5       0       0  normal  "
      ]
     },
     "execution_count": 69,
     "metadata": {},
     "output_type": "execute_result"
    }
   ],
   "source": [
    "df.head()"
   ]
  },
  {
   "cell_type": "code",
   "execution_count": 70,
   "metadata": {
    "collapsed": false
   },
   "outputs": [
    {
     "data": {
      "text/html": [
       "<div>\n",
       "<table border=\"1\" class=\"dataframe\">\n",
       "  <thead>\n",
       "    <tr style=\"text-align: right;\">\n",
       "      <th></th>\n",
       "      <th>Speed (Kmph)</th>\n",
       "      <th>GyroScop_x</th>\n",
       "      <th>GyroScop_y</th>\n",
       "      <th>GyroScop_z</th>\n",
       "      <th>attitude_pitch</th>\n",
       "      <th>attitude_roll</th>\n",
       "      <th>attitude_yaw</th>\n",
       "      <th>acceleration_x</th>\n",
       "      <th>acceleration_y</th>\n",
       "      <th>acceleration_z</th>\n",
       "      <th>G_x_avg</th>\n",
       "      <th>G_y_avg</th>\n",
       "      <th>marker</th>\n",
       "      <th>is_train</th>\n",
       "    </tr>\n",
       "  </thead>\n",
       "  <tbody>\n",
       "    <tr>\n",
       "      <th>1</th>\n",
       "      <td>-3.6</td>\n",
       "      <td>0.279051125</td>\n",
       "      <td>-0.380040079</td>\n",
       "      <td>-0.36453715</td>\n",
       "      <td>0.847955272</td>\n",
       "      <td>0.032351759</td>\n",
       "      <td>-0.017285621</td>\n",
       "      <td>0.067698531</td>\n",
       "      <td>-0.001428683</td>\n",
       "      <td>-0.280036122</td>\n",
       "      <td>0</td>\n",
       "      <td>0</td>\n",
       "      <td>normal</td>\n",
       "      <td>False</td>\n",
       "    </tr>\n",
       "    <tr>\n",
       "      <th>2</th>\n",
       "      <td>-3.6</td>\n",
       "      <td>-0.397790551</td>\n",
       "      <td>-0.642424583</td>\n",
       "      <td>-0.08518818</td>\n",
       "      <td>0.852498155</td>\n",
       "      <td>0.049403357</td>\n",
       "      <td>-0.031787953</td>\n",
       "      <td>0.103471734</td>\n",
       "      <td>0.040219281</td>\n",
       "      <td>-0.152162179</td>\n",
       "      <td>0</td>\n",
       "      <td>0</td>\n",
       "      <td>normal</td>\n",
       "      <td>True</td>\n",
       "    </tr>\n",
       "    <tr>\n",
       "      <th>3</th>\n",
       "      <td>-3.6</td>\n",
       "      <td>0.23064588</td>\n",
       "      <td>-0.023383273</td>\n",
       "      <td>-0.308370799</td>\n",
       "      <td>0.888298933</td>\n",
       "      <td>0.087982473</td>\n",
       "      <td>-0.060126059</td>\n",
       "      <td>0.004087399</td>\n",
       "      <td>0.121153757</td>\n",
       "      <td>0.080624856</td>\n",
       "      <td>0</td>\n",
       "      <td>0</td>\n",
       "      <td>normal</td>\n",
       "      <td>True</td>\n",
       "    </tr>\n",
       "    <tr>\n",
       "      <th>4</th>\n",
       "      <td>-3.6</td>\n",
       "      <td>0.007030204</td>\n",
       "      <td>-0.075759858</td>\n",
       "      <td>0.081787631</td>\n",
       "      <td>0.879922318</td>\n",
       "      <td>0.115055642</td>\n",
       "      <td>-0.083289553</td>\n",
       "      <td>0.045453493</td>\n",
       "      <td>0.146955863</td>\n",
       "      <td>0.005770246</td>\n",
       "      <td>0</td>\n",
       "      <td>0</td>\n",
       "      <td>normal</td>\n",
       "      <td>True</td>\n",
       "    </tr>\n",
       "    <tr>\n",
       "      <th>5</th>\n",
       "      <td>-3.6</td>\n",
       "      <td>-0.664592743</td>\n",
       "      <td>0.183221906</td>\n",
       "      <td>0.171060413</td>\n",
       "      <td>0.848825783</td>\n",
       "      <td>0.142631704</td>\n",
       "      <td>-0.094414574</td>\n",
       "      <td>0.138343543</td>\n",
       "      <td>-0.031858966</td>\n",
       "      <td>-0.076558895</td>\n",
       "      <td>0</td>\n",
       "      <td>0</td>\n",
       "      <td>normal</td>\n",
       "      <td>True</td>\n",
       "    </tr>\n",
       "  </tbody>\n",
       "</table>\n",
       "</div>"
      ],
      "text/plain": [
       "  Speed (Kmph)    GyroScop_x    GyroScop_y    GyroScop_z attitude_pitch  \\\n",
       "1         -3.6   0.279051125  -0.380040079   -0.36453715    0.847955272   \n",
       "2         -3.6  -0.397790551  -0.642424583   -0.08518818    0.852498155   \n",
       "3         -3.6    0.23064588  -0.023383273  -0.308370799    0.888298933   \n",
       "4         -3.6   0.007030204  -0.075759858   0.081787631    0.879922318   \n",
       "5         -3.6  -0.664592743   0.183221906   0.171060413    0.848825783   \n",
       "\n",
       "  attitude_roll  attitude_yaw acceleration_x acceleration_y acceleration_z  \\\n",
       "1   0.032351759  -0.017285621    0.067698531   -0.001428683   -0.280036122   \n",
       "2   0.049403357  -0.031787953    0.103471734    0.040219281   -0.152162179   \n",
       "3   0.087982473  -0.060126059    0.004087399    0.121153757    0.080624856   \n",
       "4   0.115055642  -0.083289553    0.045453493    0.146955863    0.005770246   \n",
       "5   0.142631704  -0.094414574    0.138343543   -0.031858966   -0.076558895   \n",
       "\n",
       "  G_x_avg G_y_avg  marker is_train  \n",
       "1       0       0  normal    False  \n",
       "2       0       0  normal     True  \n",
       "3       0       0  normal     True  \n",
       "4       0       0  normal     True  \n",
       "5       0       0  normal     True  "
      ]
     },
     "execution_count": 70,
     "metadata": {},
     "output_type": "execute_result"
    }
   ],
   "source": [
    "df['is_train'] = np.random.uniform(0, 1, len(df)) <= .75\n",
    "# View the top 5 rows\n",
    "df.head()"
   ]
  },
  {
   "cell_type": "code",
   "execution_count": 82,
   "metadata": {
    "collapsed": false,
    "scrolled": true
   },
   "outputs": [
    {
     "name": "stderr",
     "output_type": "stream",
     "text": [
      "C:\\Users\\EE208958\\AppData\\Local\\Continuum\\Anaconda2\\lib\\site-packages\\ipykernel\\__main__.py:19: SettingWithCopyWarning: \n",
      "A value is trying to be set on a copy of a slice from a DataFrame.\n",
      "Try using .loc[row_indexer,col_indexer] = value instead\n",
      "\n",
      "See the caveats in the documentation: http://pandas.pydata.org/pandas-docs/stable/indexing.html#indexing-view-versus-copy\n"
     ]
    }
   ],
   "source": [
    "# Create two new dataframes, one with the training rows, one with the test rows\n",
    "filename_test = 'D:/Machine Learning/Bike sensor data/Test-Drive-Sasken/test-drive-ml-2.csv'\n",
    "names_test = ['Speed (Kmph)','GyroScop_x','GyroScop_y','GyroScop_z','attitude_pitch','attitude_roll','attitude_yaw','acceleration_x','acceleration_y','acceleration_z','G_x_avg','G_y_avg','marker']\n",
    "data_test = pandas.read_csv(filename_test, names=names_test)\n",
    "df_test = pd.DataFrame(data_test, columns=data_test.columns)\n",
    "df_test = df_test.ix[1:]\n",
    "\n",
    "df_test['is_train'] = np.random.uniform(0, 0, len(df_test)) <= .100\n",
    "# View the top 5 rows\n",
    "#df_test.head()\n",
    "\n",
    "\n",
    "d1_test = df_test[df_test['is_train']==True]\n",
    "\n",
    "train= df[df['is_train']==True]\n",
    "\n",
    "d1_test[['Speed (Kmph)','GyroScop_x','GyroScop_y','GyroScop_z','attitude_pitch','attitude_roll','attitude_yaw','acceleration_x','acceleration_y','acceleration_z','G_x_avg','G_y_avg']] = d1_test[['Speed (Kmph)','GyroScop_x','GyroScop_y','GyroScop_z','attitude_pitch','attitude_roll','attitude_yaw','acceleration_x','acceleration_y','acceleration_z','G_x_avg','G_y_avg']].astype('float')\n",
    "train[['Speed (Kmph)','GyroScop_x','GyroScop_y','GyroScop_z','attitude_pitch','attitude_roll','attitude_yaw','acceleration_x','acceleration_y','acceleration_z','G_x_avg','G_y_avg']] = train[['Speed (Kmph)','GyroScop_x','GyroScop_y','GyroScop_z','attitude_pitch','attitude_roll','attitude_yaw','acceleration_x','acceleration_y','acceleration_z','G_x_avg','G_y_avg']].astype('float')\n",
    "train['marker'] = train['marker'].astype('category')\n",
    "d1_test['marker'] = d1_test['marker'].astype('category')\n",
    "\n"
   ]
  },
  {
   "cell_type": "code",
   "execution_count": 83,
   "metadata": {
    "collapsed": false
   },
   "outputs": [
    {
     "name": "stdout",
     "output_type": "stream",
     "text": [
      "('Number of observations in the training data:', 3156)\n",
      "('Number of observations in the test data:', 2089)\n"
     ]
    }
   ],
   "source": [
    "# Show the number of observations for the test and training dataframes\n",
    "print('Number of observations in the training data:', len(train))\n",
    "print('Number of observations in the test data:',len(d1_test))"
   ]
  },
  {
   "cell_type": "code",
   "execution_count": 84,
   "metadata": {
    "collapsed": true
   },
   "outputs": [],
   "source": [
    "features = df.columns[:12]"
   ]
  },
  {
   "cell_type": "code",
   "execution_count": 85,
   "metadata": {
    "collapsed": false
   },
   "outputs": [
    {
     "data": {
      "text/plain": [
       "Index([u'Speed (Kmph)', u'GyroScop_x', u'GyroScop_y', u'GyroScop_z',\n",
       "       u'attitude_pitch', u'attitude_roll', u'attitude_yaw', u'acceleration_x',\n",
       "       u'acceleration_y', u'acceleration_z', u'G_x_avg', u'G_y_avg'],\n",
       "      dtype='object')"
      ]
     },
     "execution_count": 85,
     "metadata": {},
     "output_type": "execute_result"
    }
   ],
   "source": [
    "features"
   ]
  },
  {
   "cell_type": "code",
   "execution_count": 87,
   "metadata": {
    "collapsed": false
   },
   "outputs": [],
   "source": [
    "y = pd.factorize(train['marker'])[0]\n",
    "x = pd.CategoricalIndex(train['marker'])\n",
    "#print(x[2100:2157])\n",
    "#y[2100:2157]"
   ]
  },
  {
   "cell_type": "code",
   "execution_count": 88,
   "metadata": {
    "collapsed": false
   },
   "outputs": [
    {
     "data": {
      "text/plain": [
       "RandomForestClassifier(bootstrap=True, class_weight=None, criterion='gini',\n",
       "            max_depth=None, max_features='auto', max_leaf_nodes=None,\n",
       "            min_impurity_split=1e-07, min_samples_leaf=1,\n",
       "            min_samples_split=2, min_weight_fraction_leaf=0.0,\n",
       "            n_estimators=10, n_jobs=2, oob_score=False, random_state=None,\n",
       "            verbose=0, warm_start=False)"
      ]
     },
     "execution_count": 88,
     "metadata": {},
     "output_type": "execute_result"
    }
   ],
   "source": [
    "# Create a random forest classifier. By convention, clf means 'classifier'\n",
    "clf = RandomForestClassifier(n_jobs=2)\n",
    "\n",
    "# Train the classifier to take the training features and learn how they relate\n",
    "# to the training y (the species)\n",
    "clf.fit(train[features], y)"
   ]
  },
  {
   "cell_type": "code",
   "execution_count": 89,
   "metadata": {
    "collapsed": false
   },
   "outputs": [
    {
     "data": {
      "text/plain": [
       "array([0, 0, 0, ..., 0, 0, 0], dtype=int64)"
      ]
     },
     "execution_count": 89,
     "metadata": {},
     "output_type": "execute_result"
    }
   ],
   "source": [
    "# Apply the classifier we trained to the test data (which, remember, it has never seen before)\n",
    "test_data = clf.predict(d1_test[features])\n",
    "test_data"
   ]
  },
  {
   "cell_type": "code",
   "execution_count": 90,
   "metadata": {
    "collapsed": false
   },
   "outputs": [
    {
     "name": "stdout",
     "output_type": "stream",
     "text": [
      "[[ 1.   0.   0.   0.   0. ]\n",
      " [ 0.9  0.1  0.   0.   0. ]\n",
      " [ 0.9  0.1  0.   0.   0. ]\n",
      " ..., \n",
      " [ 1.   0.   0.   0.   0. ]\n",
      " [ 1.   0.   0.   0.   0. ]\n",
      " [ 1.   0.   0.   0.   0. ]]\n"
     ]
    }
   ],
   "source": [
    "# View the predicted probabilities of the first 10 observations\n",
    "proba = clf.predict_proba(d1_test[features])\n",
    "print(proba)"
   ]
  },
  {
   "cell_type": "code",
   "execution_count": 91,
   "metadata": {
    "collapsed": false
   },
   "outputs": [],
   "source": [
    "#name = {'0':'normal','1':'Hard Acceleration','2':'normal','3':'Decceleration','4':'Right Turn','5':'Left Turn'}\n",
    "\n",
    "preds = clf.predict(d1_test[features])"
   ]
  },
  {
   "cell_type": "code",
   "execution_count": 92,
   "metadata": {
    "collapsed": false
   },
   "outputs": [],
   "source": [
    "#for x in np.nditer(preds):\n",
    "      # print x"
   ]
  },
  {
   "cell_type": "code",
   "execution_count": 94,
   "metadata": {
    "collapsed": false
   },
   "outputs": [
    {
     "data": {
      "text/html": [
       "<div>\n",
       "<table border=\"1\" class=\"dataframe\">\n",
       "  <thead>\n",
       "    <tr style=\"text-align: right;\">\n",
       "      <th>Predicted Events</th>\n",
       "      <th>0</th>\n",
       "      <th>1</th>\n",
       "      <th>2</th>\n",
       "      <th>3</th>\n",
       "    </tr>\n",
       "    <tr>\n",
       "      <th>Actual Events</th>\n",
       "      <th></th>\n",
       "      <th></th>\n",
       "      <th></th>\n",
       "      <th></th>\n",
       "    </tr>\n",
       "  </thead>\n",
       "  <tbody>\n",
       "    <tr>\n",
       "      <th>Decceleration</th>\n",
       "      <td>62</td>\n",
       "      <td>19</td>\n",
       "      <td>10</td>\n",
       "      <td>0</td>\n",
       "    </tr>\n",
       "    <tr>\n",
       "      <th>HardAcceleration</th>\n",
       "      <td>155</td>\n",
       "      <td>47</td>\n",
       "      <td>3</td>\n",
       "      <td>1</td>\n",
       "    </tr>\n",
       "    <tr>\n",
       "      <th>LeftTurn</th>\n",
       "      <td>4</td>\n",
       "      <td>0</td>\n",
       "      <td>0</td>\n",
       "      <td>0</td>\n",
       "    </tr>\n",
       "    <tr>\n",
       "      <th>RightTurn</th>\n",
       "      <td>16</td>\n",
       "      <td>0</td>\n",
       "      <td>0</td>\n",
       "      <td>1</td>\n",
       "    </tr>\n",
       "    <tr>\n",
       "      <th>normal</th>\n",
       "      <td>1735</td>\n",
       "      <td>21</td>\n",
       "      <td>6</td>\n",
       "      <td>9</td>\n",
       "    </tr>\n",
       "  </tbody>\n",
       "</table>\n",
       "</div>"
      ],
      "text/plain": [
       "Predicted Events     0   1   2  3\n",
       "Actual Events                    \n",
       "Decceleration       62  19  10  0\n",
       "HardAcceleration   155  47   3  1\n",
       "LeftTurn             4   0   0  0\n",
       "RightTurn           16   0   0  1\n",
       "normal            1735  21   6  9"
      ]
     },
     "execution_count": 94,
     "metadata": {},
     "output_type": "execute_result"
    }
   ],
   "source": [
    "tb = pd.crosstab(d1_test['marker'], test_data, rownames=['Actual Events'], colnames=['Predicted Events'])\n",
    "tb\n",
    "#import matplotlib.pyplot as plt\n",
    "#tb.plot()\n",
    "#tb.to_csv(\"cross_table.csv\")\n",
    "#plt.show()"
   ]
  },
  {
   "cell_type": "code",
   "execution_count": 44,
   "metadata": {
    "collapsed": false
   },
   "outputs": [],
   "source": [
    "r = test['marker']\n",
    "r.to_csv(\"test_original_with_index.csv\")"
   ]
  },
  {
   "cell_type": "code",
   "execution_count": 45,
   "metadata": {
    "collapsed": false
   },
   "outputs": [
    {
     "data": {
      "text/plain": [
       "[('Speed (Kmph)', 0.18790448271043922),\n",
       " ('GyroScop_x', 0.030784802194808152),\n",
       " ('GyroScop_y', 0.042187528912526633),\n",
       " ('GyroScop_z', 0.044437484515359116),\n",
       " ('attitude_pitch', 0.073066671615785062),\n",
       " ('attitude_roll', 0.13490568557332458),\n",
       " ('attitude_yaw', 0.11562677194268715),\n",
       " ('acceleration_x', 0.079108402679982912),\n",
       " ('acceleration_y', 0.060596872116379596),\n",
       " ('acceleration_z', 0.084579408795723066),\n",
       " ('G_x_avg', 0.068605883376073346),\n",
       " ('G_y_avg', 0.078196005566911128)]"
      ]
     },
     "execution_count": 45,
     "metadata": {},
     "output_type": "execute_result"
    }
   ],
   "source": [
    "list(zip(train[features], clf.feature_importances_))"
   ]
  },
  {
   "cell_type": "code",
   "execution_count": 221,
   "metadata": {
    "collapsed": false
   },
   "outputs": [
    {
     "data": {
      "text/plain": [
       "Speed (Kmph)       float64\n",
       "GyroScop_x         float64\n",
       "GyroScop_y         float64\n",
       "GyroScop_z         float64\n",
       "attitude_pitch     float64\n",
       "attitude_roll      float64\n",
       "attitude_yaw       float64\n",
       "acceleration_x     float64\n",
       "acceleration_y     float64\n",
       "acceleration_z     float64\n",
       "G_x_avg            float64\n",
       "G_y_avg            float64\n",
       "marker            category\n",
       "is_train              bool\n",
       "dtype: object"
      ]
     },
     "execution_count": 221,
     "metadata": {},
     "output_type": "execute_result"
    }
   ],
   "source": [
    "test.dtypes"
   ]
  }
 ],
 "metadata": {
  "kernelspec": {
   "display_name": "Python 2",
   "language": "python",
   "name": "python2"
  },
  "language_info": {
   "codemirror_mode": {
    "name": "ipython",
    "version": 2
   },
   "file_extension": ".py",
   "mimetype": "text/x-python",
   "name": "python",
   "nbconvert_exporter": "python",
   "pygments_lexer": "ipython2",
   "version": "2.7.13"
  }
 },
 "nbformat": 4,
 "nbformat_minor": 2
}

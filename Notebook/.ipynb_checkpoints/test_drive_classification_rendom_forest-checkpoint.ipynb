{
 "cells": [
  {
   "cell_type": "code",
   "execution_count": 6,
   "metadata": {
    "collapsed": false,
    "scrolled": true
   },
   "outputs": [],
   "source": [
    "import pandas\n",
    "filename = 'D:/Machine Learning/Bike sensor data/Test-Drive-Sasken/test-drive-ml.csv'\n",
    "names = ['Speed (Kmph)','GyroScop_x','GyroScop_y','GyroScop_z','attitude_pitch','attitude_roll','attitude_yaw','acceleration_x','acceleration_y','acceleration_z','G_x_avg','G_y_avg','marker']\n",
    "data = pandas.read_csv(filename, names=names)"
   ]
  },
  {
   "cell_type": "code",
   "execution_count": 7,
   "metadata": {
    "collapsed": true
   },
   "outputs": [],
   "source": [
    "# Load scikit's random forest classifier library\n",
    "from sklearn.ensemble import RandomForestClassifier\n",
    "\n",
    "# Load numpy\n",
    "import numpy as np\n",
    "\n",
    "# Load pandas\n",
    "import pandas as pd"
   ]
  },
  {
   "cell_type": "code",
   "execution_count": 8,
   "metadata": {
    "collapsed": false
   },
   "outputs": [],
   "source": [
    "df = pd.DataFrame(data, columns=data.columns)\n",
    "df = df.ix[1:]"
   ]
  },
  {
   "cell_type": "code",
   "execution_count": 9,
   "metadata": {
    "collapsed": false
   },
   "outputs": [
    {
     "data": {
      "text/html": [
       "<div>\n",
       "<table border=\"1\" class=\"dataframe\">\n",
       "  <thead>\n",
       "    <tr style=\"text-align: right;\">\n",
       "      <th></th>\n",
       "      <th>Speed (Kmph)</th>\n",
       "      <th>GyroScop_x</th>\n",
       "      <th>GyroScop_y</th>\n",
       "      <th>GyroScop_z</th>\n",
       "      <th>attitude_pitch</th>\n",
       "      <th>attitude_roll</th>\n",
       "      <th>attitude_yaw</th>\n",
       "      <th>acceleration_x</th>\n",
       "      <th>acceleration_y</th>\n",
       "      <th>acceleration_z</th>\n",
       "      <th>G_x_avg</th>\n",
       "      <th>G_y_avg</th>\n",
       "      <th>marker</th>\n",
       "    </tr>\n",
       "  </thead>\n",
       "  <tbody>\n",
       "    <tr>\n",
       "      <th>1</th>\n",
       "      <td>-3.6</td>\n",
       "      <td>0.279051125</td>\n",
       "      <td>-0.380040079</td>\n",
       "      <td>-0.36453715</td>\n",
       "      <td>0.847955272</td>\n",
       "      <td>0.032351759</td>\n",
       "      <td>-0.017285621</td>\n",
       "      <td>0.067698531</td>\n",
       "      <td>-0.001428683</td>\n",
       "      <td>-0.280036122</td>\n",
       "      <td>0</td>\n",
       "      <td>0</td>\n",
       "      <td>normal</td>\n",
       "    </tr>\n",
       "    <tr>\n",
       "      <th>2</th>\n",
       "      <td>-3.6</td>\n",
       "      <td>-0.397790551</td>\n",
       "      <td>-0.642424583</td>\n",
       "      <td>-0.08518818</td>\n",
       "      <td>0.852498155</td>\n",
       "      <td>0.049403357</td>\n",
       "      <td>-0.031787953</td>\n",
       "      <td>0.103471734</td>\n",
       "      <td>0.040219281</td>\n",
       "      <td>-0.152162179</td>\n",
       "      <td>0</td>\n",
       "      <td>0</td>\n",
       "      <td>normal</td>\n",
       "    </tr>\n",
       "    <tr>\n",
       "      <th>3</th>\n",
       "      <td>-3.6</td>\n",
       "      <td>0.23064588</td>\n",
       "      <td>-0.023383273</td>\n",
       "      <td>-0.308370799</td>\n",
       "      <td>0.888298933</td>\n",
       "      <td>0.087982473</td>\n",
       "      <td>-0.060126059</td>\n",
       "      <td>0.004087399</td>\n",
       "      <td>0.121153757</td>\n",
       "      <td>0.080624856</td>\n",
       "      <td>0</td>\n",
       "      <td>0</td>\n",
       "      <td>normal</td>\n",
       "    </tr>\n",
       "    <tr>\n",
       "      <th>4</th>\n",
       "      <td>-3.6</td>\n",
       "      <td>0.007030204</td>\n",
       "      <td>-0.075759858</td>\n",
       "      <td>0.081787631</td>\n",
       "      <td>0.879922318</td>\n",
       "      <td>0.115055642</td>\n",
       "      <td>-0.083289553</td>\n",
       "      <td>0.045453493</td>\n",
       "      <td>0.146955863</td>\n",
       "      <td>0.005770246</td>\n",
       "      <td>0</td>\n",
       "      <td>0</td>\n",
       "      <td>normal</td>\n",
       "    </tr>\n",
       "    <tr>\n",
       "      <th>5</th>\n",
       "      <td>-3.6</td>\n",
       "      <td>-0.664592743</td>\n",
       "      <td>0.183221906</td>\n",
       "      <td>0.171060413</td>\n",
       "      <td>0.848825783</td>\n",
       "      <td>0.142631704</td>\n",
       "      <td>-0.094414574</td>\n",
       "      <td>0.138343543</td>\n",
       "      <td>-0.031858966</td>\n",
       "      <td>-0.076558895</td>\n",
       "      <td>0</td>\n",
       "      <td>0</td>\n",
       "      <td>normal</td>\n",
       "    </tr>\n",
       "  </tbody>\n",
       "</table>\n",
       "</div>"
      ],
      "text/plain": [
       "  Speed (Kmph)    GyroScop_x    GyroScop_y    GyroScop_z attitude_pitch  \\\n",
       "1         -3.6   0.279051125  -0.380040079   -0.36453715    0.847955272   \n",
       "2         -3.6  -0.397790551  -0.642424583   -0.08518818    0.852498155   \n",
       "3         -3.6    0.23064588  -0.023383273  -0.308370799    0.888298933   \n",
       "4         -3.6   0.007030204  -0.075759858   0.081787631    0.879922318   \n",
       "5         -3.6  -0.664592743   0.183221906   0.171060413    0.848825783   \n",
       "\n",
       "  attitude_roll  attitude_yaw acceleration_x acceleration_y acceleration_z  \\\n",
       "1   0.032351759  -0.017285621    0.067698531   -0.001428683   -0.280036122   \n",
       "2   0.049403357  -0.031787953    0.103471734    0.040219281   -0.152162179   \n",
       "3   0.087982473  -0.060126059    0.004087399    0.121153757    0.080624856   \n",
       "4   0.115055642  -0.083289553    0.045453493    0.146955863    0.005770246   \n",
       "5   0.142631704  -0.094414574    0.138343543   -0.031858966   -0.076558895   \n",
       "\n",
       "  G_x_avg G_y_avg  marker  \n",
       "1       0       0  normal  \n",
       "2       0       0  normal  \n",
       "3       0       0  normal  \n",
       "4       0       0  normal  \n",
       "5       0       0  normal  "
      ]
     },
     "execution_count": 9,
     "metadata": {},
     "output_type": "execute_result"
    }
   ],
   "source": [
    "df.head()"
   ]
  },
  {
   "cell_type": "code",
   "execution_count": 10,
   "metadata": {
    "collapsed": false
   },
   "outputs": [
    {
     "data": {
      "text/html": [
       "<div>\n",
       "<table border=\"1\" class=\"dataframe\">\n",
       "  <thead>\n",
       "    <tr style=\"text-align: right;\">\n",
       "      <th></th>\n",
       "      <th>Speed (Kmph)</th>\n",
       "      <th>GyroScop_x</th>\n",
       "      <th>GyroScop_y</th>\n",
       "      <th>GyroScop_z</th>\n",
       "      <th>attitude_pitch</th>\n",
       "      <th>attitude_roll</th>\n",
       "      <th>attitude_yaw</th>\n",
       "      <th>acceleration_x</th>\n",
       "      <th>acceleration_y</th>\n",
       "      <th>acceleration_z</th>\n",
       "      <th>G_x_avg</th>\n",
       "      <th>G_y_avg</th>\n",
       "      <th>marker</th>\n",
       "      <th>is_train</th>\n",
       "    </tr>\n",
       "  </thead>\n",
       "  <tbody>\n",
       "    <tr>\n",
       "      <th>1</th>\n",
       "      <td>-3.6</td>\n",
       "      <td>0.279051125</td>\n",
       "      <td>-0.380040079</td>\n",
       "      <td>-0.36453715</td>\n",
       "      <td>0.847955272</td>\n",
       "      <td>0.032351759</td>\n",
       "      <td>-0.017285621</td>\n",
       "      <td>0.067698531</td>\n",
       "      <td>-0.001428683</td>\n",
       "      <td>-0.280036122</td>\n",
       "      <td>0</td>\n",
       "      <td>0</td>\n",
       "      <td>normal</td>\n",
       "      <td>True</td>\n",
       "    </tr>\n",
       "    <tr>\n",
       "      <th>2</th>\n",
       "      <td>-3.6</td>\n",
       "      <td>-0.397790551</td>\n",
       "      <td>-0.642424583</td>\n",
       "      <td>-0.08518818</td>\n",
       "      <td>0.852498155</td>\n",
       "      <td>0.049403357</td>\n",
       "      <td>-0.031787953</td>\n",
       "      <td>0.103471734</td>\n",
       "      <td>0.040219281</td>\n",
       "      <td>-0.152162179</td>\n",
       "      <td>0</td>\n",
       "      <td>0</td>\n",
       "      <td>normal</td>\n",
       "      <td>True</td>\n",
       "    </tr>\n",
       "    <tr>\n",
       "      <th>3</th>\n",
       "      <td>-3.6</td>\n",
       "      <td>0.23064588</td>\n",
       "      <td>-0.023383273</td>\n",
       "      <td>-0.308370799</td>\n",
       "      <td>0.888298933</td>\n",
       "      <td>0.087982473</td>\n",
       "      <td>-0.060126059</td>\n",
       "      <td>0.004087399</td>\n",
       "      <td>0.121153757</td>\n",
       "      <td>0.080624856</td>\n",
       "      <td>0</td>\n",
       "      <td>0</td>\n",
       "      <td>normal</td>\n",
       "      <td>True</td>\n",
       "    </tr>\n",
       "    <tr>\n",
       "      <th>4</th>\n",
       "      <td>-3.6</td>\n",
       "      <td>0.007030204</td>\n",
       "      <td>-0.075759858</td>\n",
       "      <td>0.081787631</td>\n",
       "      <td>0.879922318</td>\n",
       "      <td>0.115055642</td>\n",
       "      <td>-0.083289553</td>\n",
       "      <td>0.045453493</td>\n",
       "      <td>0.146955863</td>\n",
       "      <td>0.005770246</td>\n",
       "      <td>0</td>\n",
       "      <td>0</td>\n",
       "      <td>normal</td>\n",
       "      <td>True</td>\n",
       "    </tr>\n",
       "    <tr>\n",
       "      <th>5</th>\n",
       "      <td>-3.6</td>\n",
       "      <td>-0.664592743</td>\n",
       "      <td>0.183221906</td>\n",
       "      <td>0.171060413</td>\n",
       "      <td>0.848825783</td>\n",
       "      <td>0.142631704</td>\n",
       "      <td>-0.094414574</td>\n",
       "      <td>0.138343543</td>\n",
       "      <td>-0.031858966</td>\n",
       "      <td>-0.076558895</td>\n",
       "      <td>0</td>\n",
       "      <td>0</td>\n",
       "      <td>normal</td>\n",
       "      <td>True</td>\n",
       "    </tr>\n",
       "  </tbody>\n",
       "</table>\n",
       "</div>"
      ],
      "text/plain": [
       "  Speed (Kmph)    GyroScop_x    GyroScop_y    GyroScop_z attitude_pitch  \\\n",
       "1         -3.6   0.279051125  -0.380040079   -0.36453715    0.847955272   \n",
       "2         -3.6  -0.397790551  -0.642424583   -0.08518818    0.852498155   \n",
       "3         -3.6    0.23064588  -0.023383273  -0.308370799    0.888298933   \n",
       "4         -3.6   0.007030204  -0.075759858   0.081787631    0.879922318   \n",
       "5         -3.6  -0.664592743   0.183221906   0.171060413    0.848825783   \n",
       "\n",
       "  attitude_roll  attitude_yaw acceleration_x acceleration_y acceleration_z  \\\n",
       "1   0.032351759  -0.017285621    0.067698531   -0.001428683   -0.280036122   \n",
       "2   0.049403357  -0.031787953    0.103471734    0.040219281   -0.152162179   \n",
       "3   0.087982473  -0.060126059    0.004087399    0.121153757    0.080624856   \n",
       "4   0.115055642  -0.083289553    0.045453493    0.146955863    0.005770246   \n",
       "5   0.142631704  -0.094414574    0.138343543   -0.031858966   -0.076558895   \n",
       "\n",
       "  G_x_avg G_y_avg  marker is_train  \n",
       "1       0       0  normal     True  \n",
       "2       0       0  normal     True  \n",
       "3       0       0  normal     True  \n",
       "4       0       0  normal     True  \n",
       "5       0       0  normal     True  "
      ]
     },
     "execution_count": 10,
     "metadata": {},
     "output_type": "execute_result"
    }
   ],
   "source": [
    "df['is_train'] = np.random.uniform(0, 1, len(df)) <= .75\n",
    "# View the top 5 rows\n",
    "df.head()"
   ]
  },
  {
   "cell_type": "code",
   "execution_count": 11,
   "metadata": {
    "collapsed": false,
    "scrolled": true
   },
   "outputs": [
    {
     "name": "stderr",
     "output_type": "stream",
     "text": [
      "C:\\Users\\EE208958\\AppData\\Local\\Continuum\\Anaconda2\\lib\\site-packages\\pandas\\core\\frame.py:2440: SettingWithCopyWarning: \n",
      "A value is trying to be set on a copy of a slice from a DataFrame.\n",
      "Try using .loc[row_indexer,col_indexer] = value instead\n",
      "\n",
      "See the caveats in the documentation: http://pandas.pydata.org/pandas-docs/stable/indexing.html#indexing-view-versus-copy\n",
      "  self[k1] = value[k2]\n",
      "C:\\Users\\EE208958\\AppData\\Local\\Continuum\\Anaconda2\\lib\\site-packages\\ipykernel\\__main__.py:5: SettingWithCopyWarning: \n",
      "A value is trying to be set on a copy of a slice from a DataFrame.\n",
      "Try using .loc[row_indexer,col_indexer] = value instead\n",
      "\n",
      "See the caveats in the documentation: http://pandas.pydata.org/pandas-docs/stable/indexing.html#indexing-view-versus-copy\n",
      "C:\\Users\\EE208958\\AppData\\Local\\Continuum\\Anaconda2\\lib\\site-packages\\ipykernel\\__main__.py:6: SettingWithCopyWarning: \n",
      "A value is trying to be set on a copy of a slice from a DataFrame.\n",
      "Try using .loc[row_indexer,col_indexer] = value instead\n",
      "\n",
      "See the caveats in the documentation: http://pandas.pydata.org/pandas-docs/stable/indexing.html#indexing-view-versus-copy\n"
     ]
    }
   ],
   "source": [
    "# Create two new dataframes, one with the training rows, one with the test rows\n",
    "train, test = df[df['is_train']==True], df[df['is_train']==False]\n",
    "test[['Speed (Kmph)','GyroScop_x','GyroScop_y','GyroScop_z','attitude_pitch','attitude_roll','attitude_yaw','acceleration_x','acceleration_y','acceleration_z','G_x_avg','G_y_avg']] = test[['Speed (Kmph)','GyroScop_x','GyroScop_y','GyroScop_z','attitude_pitch','attitude_roll','attitude_yaw','acceleration_x','acceleration_y','acceleration_z','G_x_avg','G_y_avg']].astype('float')\n",
    "train[['Speed (Kmph)','GyroScop_x','GyroScop_y','GyroScop_z','attitude_pitch','attitude_roll','attitude_yaw','acceleration_x','acceleration_y','acceleration_z','G_x_avg','G_y_avg']] = train[['Speed (Kmph)','GyroScop_x','GyroScop_y','GyroScop_z','attitude_pitch','attitude_roll','attitude_yaw','acceleration_x','acceleration_y','acceleration_z','G_x_avg','G_y_avg']].astype('float')\n",
    "train['marker'] = train['marker'].astype('category')\n",
    "test['marker'] = test['marker'].astype('category')"
   ]
  },
  {
   "cell_type": "code",
   "execution_count": 12,
   "metadata": {
    "collapsed": false
   },
   "outputs": [
    {
     "name": "stdout",
     "output_type": "stream",
     "text": [
      "('Number of observations in the training data:', 3157)\n",
      "('Number of observations in the test data:', 1024)\n"
     ]
    }
   ],
   "source": [
    "# Show the number of observations for the test and training dataframes\n",
    "print('Number of observations in the training data:', len(train))\n",
    "print('Number of observations in the test data:',len(test))"
   ]
  },
  {
   "cell_type": "code",
   "execution_count": 13,
   "metadata": {
    "collapsed": true
   },
   "outputs": [],
   "source": [
    "features = df.columns[:12]"
   ]
  },
  {
   "cell_type": "code",
   "execution_count": 14,
   "metadata": {
    "collapsed": false
   },
   "outputs": [
    {
     "data": {
      "text/plain": [
       "Index([u'Speed (Kmph)', u'GyroScop_x', u'GyroScop_y', u'GyroScop_z',\n",
       "       u'attitude_pitch', u'attitude_roll', u'attitude_yaw', u'acceleration_x',\n",
       "       u'acceleration_y', u'acceleration_z', u'G_x_avg', u'G_y_avg'],\n",
       "      dtype='object')"
      ]
     },
     "execution_count": 14,
     "metadata": {},
     "output_type": "execute_result"
    }
   ],
   "source": [
    "features"
   ]
  },
  {
   "cell_type": "code",
   "execution_count": 76,
   "metadata": {
    "collapsed": false
   },
   "outputs": [
    {
     "name": "stdout",
     "output_type": "stream",
     "text": [
      "CategoricalIndex([u'normal ', u'normal ', u'normal ', u'normal ', u'normal ',\n",
      "                  u'normal ', u'normal ', u'normal ', u'normal ', u'normal ',\n",
      "                  u'normal ', u'normal ', u'normal ', u'normal ', u'normal ',\n",
      "                  u'normal ', u'normal ', u'normal ', u'normal ', u'normal ',\n",
      "                  u'normal ', u'normal ', u'normal ', u'normal ', u'normal ',\n",
      "                  u'normal ', u'Hard Acceleration', u'Hard Acceleration',\n",
      "                  u'Decceleration', u'Decceleration', u'Decceleration',\n",
      "                  u'Decceleration', u'Decceleration', u'Decceleration',\n",
      "                  u'Decceleration', u'Decceleration', u'Decceleration',\n",
      "                  u'Decceleration', u'Decceleration', u'normal ', u'normal ',\n",
      "                  u'normal ', u'normal ', u'normal ', u'normal ', u'normal ',\n",
      "                  u'normal ', u'normal ', u'normal ', u'normal ', u'normal ',\n",
      "                  u'normal ', u'normal ', u'normal ', u'normal ', u'normal ',\n",
      "                  u'normal '],\n",
      "                 categories=[u'Decceleration', u'Hard Acceleration', u'Left Turn', u'Right Turn', u'normal', u'normal '], ordered=False, name=u'marker', dtype='category')\n"
     ]
    },
    {
     "data": {
      "text/plain": [
       "array([2, 2, 2, 2, 2, 2, 2, 2, 2, 2, 2, 2, 2, 2, 2, 2, 2, 2, 2, 2, 2, 2, 2,\n",
       "       2, 2, 2, 1, 1, 3, 3, 3, 3, 3, 3, 3, 3, 3, 3, 3, 2, 2, 2, 2, 2, 2, 2,\n",
       "       2, 2, 2, 2, 2, 2, 2, 2, 2, 2, 2], dtype=int64)"
      ]
     },
     "execution_count": 76,
     "metadata": {},
     "output_type": "execute_result"
    }
   ],
   "source": [
    "y = pd.factorize(train['marker'])[0]\n",
    "x = pd.CategoricalIndex(train['marker'])\n",
    "print(x[2100:2157])\n",
    "y[2100:2157]"
   ]
  },
  {
   "cell_type": "code",
   "execution_count": 77,
   "metadata": {
    "collapsed": false
   },
   "outputs": [
    {
     "data": {
      "text/plain": [
       "RandomForestClassifier(bootstrap=True, class_weight=None, criterion='gini',\n",
       "            max_depth=None, max_features='auto', max_leaf_nodes=None,\n",
       "            min_impurity_split=1e-07, min_samples_leaf=1,\n",
       "            min_samples_split=2, min_weight_fraction_leaf=0.0,\n",
       "            n_estimators=10, n_jobs=2, oob_score=False, random_state=None,\n",
       "            verbose=0, warm_start=False)"
      ]
     },
     "execution_count": 77,
     "metadata": {},
     "output_type": "execute_result"
    }
   ],
   "source": [
    "# Create a random forest classifier. By convention, clf means 'classifier'\n",
    "clf = RandomForestClassifier(n_jobs=2)\n",
    "\n",
    "# Train the classifier to take the training features and learn how they relate\n",
    "# to the training y (the species)\n",
    "clf.fit(train[features], y)"
   ]
  },
  {
   "cell_type": "code",
   "execution_count": 109,
   "metadata": {
    "collapsed": false
   },
   "outputs": [
    {
     "data": {
      "text/plain": [
       "array([0, 0, 0, ..., 3, 2, 2], dtype=int64)"
      ]
     },
     "execution_count": 109,
     "metadata": {},
     "output_type": "execute_result"
    }
   ],
   "source": [
    "# Apply the classifier we trained to the test data (which, remember, it has never seen before)\n",
    "test_data = clf.predict(test[features])\n",
    "test_data"
   ]
  },
  {
   "cell_type": "code",
   "execution_count": 79,
   "metadata": {
    "collapsed": false
   },
   "outputs": [
    {
     "name": "stdout",
     "output_type": "stream",
     "text": [
      "[[ 0.8  0.   0.2  0.   0.   0. ]\n",
      " [ 0.8  0.   0.2  0.   0.   0. ]\n",
      " [ 1.   0.   0.   0.   0.   0. ]\n",
      " ..., \n",
      " [ 0.1  0.1  0.1  0.7  0.   0. ]\n",
      " [ 0.2  0.   0.4  0.4  0.   0. ]\n",
      " [ 0.2  0.   0.6  0.2  0.   0. ]]\n"
     ]
    }
   ],
   "source": [
    "# View the predicted probabilities of the first 10 observations\n",
    "proba = clf.predict_proba(test[features])\n",
    "print(proba)"
   ]
  },
  {
   "cell_type": "code",
   "execution_count": 96,
   "metadata": {
    "collapsed": false
   },
   "outputs": [],
   "source": [
    "#name = {'0':'normal','1':'Hard Acceleration','2':'normal','3':'Decceleration','4':'Right Turn','5':'Left Turn'}\n",
    "\n",
    "preds = clf.predict(test[features])"
   ]
  },
  {
   "cell_type": "code",
   "execution_count": 126,
   "metadata": {
    "collapsed": false
   },
   "outputs": [
    {
     "data": {
      "text/plain": [
       "<function tolist>"
      ]
     },
     "execution_count": 126,
     "metadata": {},
     "output_type": "execute_result"
    }
   ],
   "source": [
    "preds.tofile(\"csv\")\n"
   ]
  },
  {
   "cell_type": "code",
   "execution_count": 120,
   "metadata": {
    "collapsed": false
   },
   "outputs": [
    {
     "data": {
      "text/html": [
       "<div>\n",
       "<table border=\"1\" class=\"dataframe\">\n",
       "  <thead>\n",
       "    <tr style=\"text-align: right;\">\n",
       "      <th>Predicted Events</th>\n",
       "      <th>0</th>\n",
       "      <th>1</th>\n",
       "      <th>2</th>\n",
       "      <th>3</th>\n",
       "      <th>4</th>\n",
       "    </tr>\n",
       "    <tr>\n",
       "      <th>Actual Events</th>\n",
       "      <th></th>\n",
       "      <th></th>\n",
       "      <th></th>\n",
       "      <th></th>\n",
       "      <th></th>\n",
       "    </tr>\n",
       "  </thead>\n",
       "  <tbody>\n",
       "    <tr>\n",
       "      <th>Decceleration</th>\n",
       "      <td>0</td>\n",
       "      <td>5</td>\n",
       "      <td>26</td>\n",
       "      <td>47</td>\n",
       "      <td>0</td>\n",
       "    </tr>\n",
       "    <tr>\n",
       "      <th>Hard Acceleration</th>\n",
       "      <td>0</td>\n",
       "      <td>102</td>\n",
       "      <td>39</td>\n",
       "      <td>3</td>\n",
       "      <td>0</td>\n",
       "    </tr>\n",
       "    <tr>\n",
       "      <th>Right Turn</th>\n",
       "      <td>0</td>\n",
       "      <td>0</td>\n",
       "      <td>2</td>\n",
       "      <td>0</td>\n",
       "      <td>17</td>\n",
       "    </tr>\n",
       "    <tr>\n",
       "      <th>normal</th>\n",
       "      <td>62</td>\n",
       "      <td>0</td>\n",
       "      <td>3</td>\n",
       "      <td>0</td>\n",
       "      <td>0</td>\n",
       "    </tr>\n",
       "    <tr>\n",
       "      <th>normal</th>\n",
       "      <td>3</td>\n",
       "      <td>5</td>\n",
       "      <td>710</td>\n",
       "      <td>0</td>\n",
       "      <td>0</td>\n",
       "    </tr>\n",
       "  </tbody>\n",
       "</table>\n",
       "</div>"
      ],
      "text/plain": [
       "Predicted Events    0    1    2   3   4\n",
       "Actual Events                          \n",
       "Decceleration       0    5   26  47   0\n",
       "Hard Acceleration   0  102   39   3   0\n",
       "Right Turn          0    0    2   0  17\n",
       "normal             62    0    3   0   0\n",
       "normal              3    5  710   0   0"
      ]
     },
     "execution_count": 120,
     "metadata": {},
     "output_type": "execute_result"
    }
   ],
   "source": [
    "tb = pd.crosstab(test['marker'], test_data, rownames=['Actual Events'], colnames=['Predicted Events'])\n",
    "tb"
   ]
  },
  {
   "cell_type": "code",
   "execution_count": 125,
   "metadata": {
    "collapsed": false
   },
   "outputs": [
    {
     "data": {
      "text/plain": [
       "7     normal\n",
       "8     normal\n",
       "17    normal\n",
       "20    normal\n",
       "29    normal\n",
       "Name: marker, dtype: category\n",
       "Categories (5, object): [Decceleration, Hard Acceleration, Right Turn, normal, normal]"
      ]
     },
     "execution_count": 125,
     "metadata": {},
     "output_type": "execute_result"
    }
   ],
   "source": [
    "test['marker'].head()"
   ]
  },
  {
   "cell_type": "code",
   "execution_count": 118,
   "metadata": {
    "collapsed": false
   },
   "outputs": [
    {
     "data": {
      "text/plain": [
       "[('Speed (Kmph)', 0.18567057537410783),\n",
       " ('GyroScop_x', 0.034080177364268882),\n",
       " ('GyroScop_y', 0.039006471653611971),\n",
       " ('GyroScop_z', 0.041483659152925505),\n",
       " ('attitude_pitch', 0.11125088904206229),\n",
       " ('attitude_roll', 0.13126675205954969),\n",
       " ('attitude_yaw', 0.13273355833879946),\n",
       " ('acceleration_x', 0.06875277620919891),\n",
       " ('acceleration_y', 0.04657231813189603),\n",
       " ('acceleration_z', 0.059100111191783399),\n",
       " ('G_x_avg', 0.062208955814640941),\n",
       " ('G_y_avg', 0.087873755667155162)]"
      ]
     },
     "execution_count": 118,
     "metadata": {},
     "output_type": "execute_result"
    }
   ],
   "source": [
    "list(zip(train[features], clf.feature_importances_))"
   ]
  },
  {
   "cell_type": "code",
   "execution_count": 66,
   "metadata": {
    "collapsed": false
   },
   "outputs": [
    {
     "data": {
      "text/plain": [
       "Speed (Kmph)       float64\n",
       "GyroScop_x         float64\n",
       "GyroScop_y         float64\n",
       "GyroScop_z         float64\n",
       "attitude_pitch     float64\n",
       "attitude_roll      float64\n",
       "attitude_yaw       float64\n",
       "acceleration_x     float64\n",
       "acceleration_y     float64\n",
       "acceleration_z     float64\n",
       "G_x_avg            float64\n",
       "G_y_avg            float64\n",
       "marker            category\n",
       "is_train              bool\n",
       "dtype: object"
      ]
     },
     "execution_count": 66,
     "metadata": {},
     "output_type": "execute_result"
    }
   ],
   "source": [
    "test.dtypes"
   ]
  }
 ],
 "metadata": {
  "kernelspec": {
   "display_name": "Python 2",
   "language": "python",
   "name": "python2"
  },
  "language_info": {
   "codemirror_mode": {
    "name": "ipython",
    "version": 2
   },
   "file_extension": ".py",
   "mimetype": "text/x-python",
   "name": "python",
   "nbconvert_exporter": "python",
   "pygments_lexer": "ipython2",
   "version": "2.7.13"
  }
 },
 "nbformat": 4,
 "nbformat_minor": 2
}
